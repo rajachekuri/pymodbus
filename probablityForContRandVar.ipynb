{
  "nbformat": 4,
  "nbformat_minor": 0,
  "metadata": {
    "colab": {
      "provenance": [],
      "authorship_tag": "ABX9TyMbMt5RqrFhjgOIOUX+AzBA",
      "include_colab_link": true
    },
    "kernelspec": {
      "name": "python3",
      "display_name": "Python 3"
    },
    "language_info": {
      "name": "python"
    }
  },
  "cells": [
    {
      "cell_type": "markdown",
      "metadata": {
        "id": "view-in-github",
        "colab_type": "text"
      },
      "source": [
        "<a href=\"https://colab.research.google.com/github/rajachekuri/pymodbus/blob/main/probablityForContRandVar.ipynb\" target=\"_parent\"><img src=\"https://colab.research.google.com/assets/colab-badge.svg\" alt=\"Open In Colab\"/></a>"
      ]
    },
    {
      "cell_type": "code",
      "execution_count": 1,
      "metadata": {
        "id": "70yC6ncm_Vaj"
      },
      "outputs": [],
      "source": [
        "from scipy import stats"
      ]
    },
    {
      "cell_type": "markdown",
      "source": [
        "stats.norm.cdf(x, mean, stdvar)"
      ],
      "metadata": {
        "id": "g3s-d3qFFZVJ"
      }
    },
    {
      "cell_type": "code",
      "source": [
        "stats.norm.cdf(70, 60, 10)"
      ],
      "metadata": {
        "id": "k01hLCsHS0KB",
        "colab": {
          "base_uri": "https://localhost:8080/"
        },
        "outputId": "018bf18b-1845-41b8-fbaf-9c48f2be16a1"
      },
      "execution_count": null,
      "outputs": [
        {
          "output_type": "execute_result",
          "data": {
            "text/plain": [
              "0.8413447460685429"
            ]
          },
          "metadata": {},
          "execution_count": 2
        }
      ]
    },
    {
      "cell_type": "code",
      "source": [
        "stats.norm.cdf(680, 711, 29)"
      ],
      "metadata": {
        "id": "Jt1kYsou5kgR"
      },
      "execution_count": null,
      "outputs": []
    },
    {
      "cell_type": "code",
      "source": [
        "p = 1 -(stats.norm.cdf(720, 711, 29))"
      ],
      "metadata": {
        "id": "gGjlVdUT6wex"
      },
      "execution_count": null,
      "outputs": []
    },
    {
      "cell_type": "code",
      "source": [
        "p"
      ],
      "metadata": {
        "colab": {
          "base_uri": "https://localhost:8080/"
        },
        "id": "0zMGEoV37f_u",
        "outputId": "73d524b3-2c5f-4124-8269-363fe8766388"
      },
      "execution_count": null,
      "outputs": [
        {
          "output_type": "execute_result",
          "data": {
            "text/plain": [
              "0.37814937265194704"
            ]
          },
          "metadata": {},
          "execution_count": 11
        }
      ]
    },
    {
      "cell_type": "code",
      "source": [
        "stats.norm.cdf(720, 711, 29)"
      ],
      "metadata": {
        "colab": {
          "base_uri": "https://localhost:8080/"
        },
        "id": "3FAR4MiM7hXG",
        "outputId": "7bcd5dc7-17fc-489c-fbfd-3004321c2bf5"
      },
      "execution_count": null,
      "outputs": [
        {
          "output_type": "execute_result",
          "data": {
            "text/plain": [
              "0.621850627348053"
            ]
          },
          "metadata": {},
          "execution_count": 6
        }
      ]
    },
    {
      "cell_type": "code",
      "source": [
        "y = stats.norm.cdf(740, 711, 29)"
      ],
      "metadata": {
        "id": "tJeUv2AO7_c0"
      },
      "execution_count": null,
      "outputs": []
    },
    {
      "cell_type": "code",
      "source": [
        "x = stats.norm.cdf(680, 711, 29)"
      ],
      "metadata": {
        "id": "948XD8cg8sgn"
      },
      "execution_count": null,
      "outputs": []
    },
    {
      "cell_type": "code",
      "source": [
        "y - x"
      ],
      "metadata": {
        "colab": {
          "base_uri": "https://localhost:8080/"
        },
        "id": "DexlHg8U89kt",
        "outputId": "5af759a0-8401-4ed0-ecf2-ed3257320505"
      },
      "execution_count": null,
      "outputs": [
        {
          "output_type": "execute_result",
          "data": {
            "text/plain": [
              "0.6988021422297268"
            ]
          },
          "metadata": {},
          "execution_count": 9
        }
      ]
    },
    {
      "cell_type": "code",
      "source": [
        "x = stats.norm.cdf(680, 711, 29) - stats.norm.cdf(740, 711, 29)\n",
        "x"
      ],
      "metadata": {
        "id": "tARDD27K9HZl"
      },
      "execution_count": null,
      "outputs": []
    },
    {
      "cell_type": "code",
      "source": [
        "stats.norm.cdf(-0.02,loc = 0, scale = 0.0134)"
      ],
      "metadata": {
        "id": "7HbZOseG9WIM"
      },
      "execution_count": null,
      "outputs": []
    },
    {
      "cell_type": "code",
      "source": [
        "import pandas as pd\n",
        "import numpy as np"
      ],
      "metadata": {
        "id": "tsIRwtOxSMYA"
      },
      "execution_count": 2,
      "outputs": []
    },
    {
      "cell_type": "code",
      "source": [
        "beml_df = pd.read_csv(\"/content/BEML.csv\")\n",
        "galxo_df = pd.read_csv(\"/content/GLAXO.csv\")"
      ],
      "metadata": {
        "id": "HGn44v9Q_0Y_"
      },
      "execution_count": 3,
      "outputs": []
    },
    {
      "cell_type": "code",
      "source": [
        "beml_df.head(2)\n",
        "galxo_df.head(3)"
      ],
      "metadata": {
        "id": "isPAeBfUAypQ"
      },
      "execution_count": null,
      "outputs": []
    },
    {
      "cell_type": "markdown",
      "source": [
        "To find gain we required close price colum and date only"
      ],
      "metadata": {
        "id": "g189i64nAmoC"
      }
    },
    {
      "cell_type": "code",
      "source": [
        "beml_df = beml_df[['Date','Close']]"
      ],
      "metadata": {
        "id": "QBkxFnfOAIE0"
      },
      "execution_count": 5,
      "outputs": []
    },
    {
      "cell_type": "code",
      "source": [
        "beml_df.head(2)"
      ],
      "metadata": {
        "id": "lfw2VXt-BRBS"
      },
      "execution_count": null,
      "outputs": []
    },
    {
      "cell_type": "code",
      "source": [
        "galxo_df = galxo_df[['Date','Close']]"
      ],
      "metadata": {
        "id": "qodPOa3vBWal"
      },
      "execution_count": 7,
      "outputs": []
    },
    {
      "cell_type": "code",
      "source": [
        "galxo_df"
      ],
      "metadata": {
        "id": "bRPklUcOBihb"
      },
      "execution_count": null,
      "outputs": []
    },
    {
      "cell_type": "code",
      "source": [
        "galxo_df = galxo_df.set_index(pd.DatetimeIndex(galxo_df['Date']))"
      ],
      "metadata": {
        "id": "Sb4Tyr2oByRO"
      },
      "execution_count": 10,
      "outputs": []
    },
    {
      "cell_type": "code",
      "source": [
        "galxo_df.head(3)"
      ],
      "metadata": {
        "id": "RtLi7hyKCZqj"
      },
      "execution_count": null,
      "outputs": []
    },
    {
      "cell_type": "code",
      "source": [
        "import matplotlib.pyplot as plt\n",
        "import seaborn as sn\n",
        "%matplotlib inline"
      ],
      "metadata": {
        "id": "Rd3PDoe-CtPt"
      },
      "execution_count": 12,
      "outputs": []
    },
    {
      "cell_type": "code",
      "source": [
        "plt.plot(galxo_df.Close);\n",
        "plt.xlabel('Time');\n",
        "plt.ylabel('Close Price');"
      ],
      "metadata": {
        "id": "bsXKHA5HDPZm"
      },
      "execution_count": null,
      "outputs": []
    },
    {
      "cell_type": "code",
      "source": [
        "galxo_df['gain'] = galxo_df.Close.pct_change(periods = 1)"
      ],
      "metadata": {
        "id": "CVVmhH7cDYM5"
      },
      "execution_count": 18,
      "outputs": []
    },
    {
      "cell_type": "code",
      "source": [
        "galxo_df = galxo_df.dropna()"
      ],
      "metadata": {
        "id": "EbzE8jxkE5kY"
      },
      "execution_count": 20,
      "outputs": []
    },
    {
      "cell_type": "code",
      "source": [
        "galxo_df.head(2)"
      ],
      "metadata": {
        "id": "a-C5ezJPExnU"
      },
      "execution_count": null,
      "outputs": []
    },
    {
      "cell_type": "code",
      "source": [
        "plt.figure(figsize = (8, 6));\n",
        "plt.plot(galxo_df.index, galxo_df.gain);\n",
        "plt.xlabel('Time');\n",
        "plt.ylabel('gain');"
      ],
      "metadata": {
        "id": "WJ7HqOcyFFgu"
      },
      "execution_count": null,
      "outputs": []
    },
    {
      "cell_type": "code",
      "source": [
        "sn.distplot(galxo_df.gain, label = 'Glaxo');\n",
        "plt.xlabel('gain');\n",
        "plt.ylabel('Density');\n",
        "plt.legend();"
      ],
      "metadata": {
        "id": "MyEebP43FoRm"
      },
      "execution_count": null,
      "outputs": []
    },
    {
      "cell_type": "code",
      "source": [],
      "metadata": {
        "id": "qw4FKie0F-w9"
      },
      "execution_count": null,
      "outputs": []
    }
  ]
}